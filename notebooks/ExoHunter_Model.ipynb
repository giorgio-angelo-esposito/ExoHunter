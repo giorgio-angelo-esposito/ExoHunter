{
  "cells": [
    {
      "cell_type": "markdown",
      "source": [
        "# Notebook per la creazione e addestramento della rete neurale convoluzionale **ExoHunter** "
      ],
      "metadata": {
        "id": "p2FoFAoyKY5q"
      }
    },
    {
      "cell_type": "markdown",
      "source": [
        "# Installazione della libreria `keras_tuner`"
      ],
      "metadata": {
        "id": "r9dVUAnhLHoB"
      }
    },
    {
      "cell_type": "code",
      "source": [
        "!pip install keras_tuner"
      ],
      "metadata": {
        "id": "wdpq6vvtmS41"
      },
      "execution_count": null,
      "outputs": []
    },
    {
      "cell_type": "markdown",
      "source": [
        "# Import delle librerie"
      ],
      "metadata": {
        "id": "RlkcpFpWLR5u"
      }
    },
    {
      "cell_type": "code",
      "execution_count": null,
      "metadata": {
        "id": "SPlV10Iplul4"
      },
      "outputs": [],
      "source": [
        "import numpy as np\n",
        "import visualkeras\n",
        "# import keras_tuner as kt\n",
        "# from keras_tuner.tuners import BayesianOptimization\n",
        "# from keras_tuner.engine.hyperparameters import HyperParameters\n",
        "import tensorflow\n",
        "from tensorflow import keras\n",
        "from tensorflow.keras import layers\n",
        "from tensorflow.keras.models import Sequential\n",
        "from tensorflow.keras.optimizers import Adam\n",
        "from tensorflow.keras.callbacks import EarlyStopping, ModelCheckpoint"
      ]
    },
    {
      "cell_type": "markdown",
      "metadata": {
        "id": "LRcRcL4fefTf"
      },
      "source": [
        "Caricamento dei dati"
      ]
    },
    {
      "cell_type": "code",
      "source": [
        "from google.colab import drive\n",
        "drive.mount('/content/drive')"
      ],
      "metadata": {
        "colab": {
          "base_uri": "https://localhost:8080/"
        },
        "id": "RP6t-A9xXrb8",
        "outputId": "117a7fa9-3144-4687-beb7-2780bc816c1e"
      },
      "execution_count": null,
      "outputs": [
        {
          "output_type": "stream",
          "name": "stdout",
          "text": [
            "Mounted at /content/drive\n"
          ]
        }
      ]
    },
    {
      "cell_type": "code",
      "execution_count": null,
      "metadata": {
        "id": "Td2GqSP-ehT_"
      },
      "outputs": [],
      "source": [
        "X_train = np.load('/content/drive/MyDrive/dati/train/X_train.npy')\n",
        "Y_train = np.load('/content/drive/MyDrive/dati/train/Y_train.npy')\n",
        "X_test = np.load('/content/drive/MyDrive/dati/test/X_test.npy')\n",
        "Y_test = np.load('/content/drive/MyDrive/dati/test/Y_test.npy')\n",
        "X_val = np.load('/content/drive/MyDrive/dati/val/X_val.npy')\n",
        "Y_val = np.load('/content/drive/MyDrive/dati/val/Y_val.npy')"
      ]
    },
    {
      "cell_type": "code",
      "execution_count": null,
      "metadata": {
        "colab": {
          "base_uri": "https://localhost:8080/"
        },
        "id": "obhs5COGrB4i",
        "outputId": "3fac979d-7f07-4ddc-a392-29d3c35ad9ba"
      },
      "outputs": [
        {
          "output_type": "stream",
          "name": "stdout",
          "text": [
            "X_train: (15592, 2001, 1), X_val: (1733, 2001, 1), X_test: (1925, 2001, 1)\n"
          ]
        }
      ],
      "source": [
        "print(\"X_train: {}, X_val: {}, X_test: {}\".format(X_train.shape,X_val.shape,X_test.shape))"
      ]
    },
    {
      "cell_type": "markdown",
      "source": [
        "# Funzione per la creazione del modello. Per i parametri si può consultare la tesi."
      ],
      "metadata": {
        "id": "3MNGHufTLfdr"
      }
    },
    {
      "cell_type": "code",
      "execution_count": null,
      "metadata": {
        "id": "xqmIJBaOrT_C"
      },
      "outputs": [],
      "source": [
        "def build_exoHunter(hp):\n",
        "\n",
        "  exoHunter = keras.Sequential(name = 'exoHunter')\n",
        "  \n",
        "  hp_num_conv_layers_first = hp.Int('num_conv_1',0,3) #numero di layer convoluzionali nel primo blocco\n",
        "  hp_num_conv_layers_second = hp.Int('num_conv_2',0,3) #numero di layer convoluzionali nel secondo blocco\n",
        "  hp_num_conv_layers_third = hp.Int('num_conv_3',0,3) #numero di layer convoluzionali nel terzo blocco\n",
        "  hp_num_conv_layers_fourth = hp.Int('num_conv_4',0,3) #numero di layer convoluzionali nel quarto blocco\n",
        "  hp_num_conv_layers_fifth = hp.Int('num_conv_5',0,3) #numero di layer convoluzionali nel quinto blocco\n",
        "\n",
        "  hp_filters_input = hp.Choice('number_filters_input', values = [8, 16]) #numero di filtri nello strato di input\n",
        "  hp_kernel_size = hp.Choice('kernel_size', values = [3, 5]) #dimensione del kernel negli strati convoluzionali\n",
        "\n",
        "  hp_pool_size = hp.Choice('pool_size', values = [2, 3, 5]) #dimensione del pool negli strati di MaxPooling\n",
        "  hp_pool_stride = hp.Choice('pool_stride', values = [1,2,3]) #numero di passi negli strati di MaxPooling\n",
        "\n",
        "  hp_num_dense = hp.Int('num_dense',1,5) #numero di strati completamente connessi\n",
        "  hp_dense_units = hp.Choice('num_dense_units', values = [32, 64, 128, 512, 1028]) #numero di neuroni negli strati completamente connessi\n",
        "\n",
        "  hp_lr = hp.Choice('learning_rate', values = [0.001, 0.0001, 0.00001, 0.000001]) #valori del learning rate\n",
        "  hp_dropout = hp.Float('dropout_rate', min_value = 0.30, max_value = 0.85, step = 0.05, default = 0.50)\n",
        "\n",
        "  ###################################################\n",
        "  exoHunter.add(layers.Conv1D(filters = hp_filters_input, kernel_size = hp_kernel_size, strides = 1, input_shape = (2001,1),name = 'input_layer'))\n",
        "  \n",
        "  ###################################################\n",
        "  if hp_num_conv_layers_first > 0:\n",
        "    print('hp_num_conv_layers_first:', hp_num_conv_layers_first)\n",
        "    for i in range(hp_num_conv_layers_first):\n",
        "\n",
        "      hp_filters_first = hp.Choice('first_block_filters_' + str(i), values=[8, 16])\n",
        "      print('hp_filters_first_'+str(i)+':', hp_filters_first)\n",
        "      exoHunter.add(layers.Conv1D(filters = hp_filters_first, kernel_size = hp_kernel_size, strides = 1, name = '1_conv1D_'+str(i)))\n",
        "    \n",
        "    exoHunter.add(layers.MaxPooling1D(pool_size = hp_pool_size, strides = hp_pool_stride, name = 'max_pool_1'))\n",
        "  i = 0\n",
        "  ####################################################\n",
        "  if hp_num_conv_layers_second > 0:\n",
        "    print('hp_num_conv_layers_second:', hp_num_conv_layers_second)\n",
        "    for i in range(0,hp_num_conv_layers_second):\n",
        "      \n",
        "      hp_filters_second = hp.Choice('second_block_filters_' + str(i), values=[32, 64])\n",
        "      print('hp_filters_second_'+str(i)+':', hp_filters_second)\n",
        "      exoHunter.add(layers.Conv1D(filters = hp_filters_second, kernel_size = hp_kernel_size, strides = 1, name = '2_conv1D_'+str(i)))\n",
        "    \n",
        "    exoHunter.add(layers.MaxPooling1D(pool_size = hp_pool_size, strides = hp_pool_stride, name = 'max_pool_2'))\n",
        "  i = 0\n",
        "  ####################################################\n",
        "  if hp_num_conv_layers_third > 0:\n",
        "    print('hp_num_conv_layers_third:', hp_num_conv_layers_third)\n",
        "    for i in range(0,hp_num_conv_layers_third):\n",
        "      hp_filters_third = hp.Choice('third_block_filters_' + str(i), values=[64, 128])\n",
        "      print('hp_filters_third_'+str(i)+':', hp_filters_third)\n",
        "      exoHunter.add(layers.Conv1D(filters = hp_filters_third, kernel_size = hp_kernel_size, strides = 1, name = '3_conv1D_'+str(i)))\n",
        "    \n",
        "    exoHunter.add(layers.MaxPooling1D(pool_size = hp_pool_size, strides = hp_pool_stride, name = 'max_pool_3'))\n",
        "  i = 0\n",
        "  ####################################################\n",
        "  if hp_num_conv_layers_fourth > 0:\n",
        "    print('hp_num_conv_layers_fouth:', hp_num_conv_layers_fourth)\n",
        "    for i in range(0,hp_num_conv_layers_fourth):\n",
        "      hp_filters_fourth = hp.Choice('fourth_block_filters_' + str(i), values=[64, 128])\n",
        "      print('hp_filters_fourth_'+str(i)+':', hp_filters_fourth)\n",
        "      exoHunter.add(layers.Conv1D(filters = hp_filters_fourth, kernel_size = hp_kernel_size, strides = 1, name = '4_conv1D_'+str(i)))\n",
        "    \n",
        "    exoHunter.add(layers.MaxPooling1D(pool_size = hp_pool_size, strides = hp_pool_stride, name = 'max_pool_4'))\n",
        "  i = 0\n",
        "  ####################################################\n",
        "  if hp_num_conv_layers_fifth > 0:\n",
        "    print('hp_num_conv_layers_fifth:', hp_num_conv_layers_fifth)\n",
        "    for i in range(0,hp_num_conv_layers_fifth):\n",
        "      hp_filters_fifth = hp.Choice('fifth_block_filters_' + str(i), values=[64, 128])\n",
        "      print('hp_filters_fifth_'+str(i)+':', hp_filters_fifth)\n",
        "      exoHunter.add(layers.Conv1D(filters = hp_filters_fifth, kernel_size = hp_kernel_size, strides = 1, name = '5_conv1D_'+str(i)))\n",
        "    \n",
        "    exoHunter.add(layers.MaxPooling1D(pool_size = hp_pool_size, strides = hp_pool_stride, name = 'max_pool_5'))\n",
        "  i = 0\n",
        "  ####################################################\n",
        "  \n",
        "  exoHunter.add(layers.Flatten(name = 'flatten'))\n",
        "    \n",
        "  for i in range(hp_num_dense):\n",
        "\n",
        "    exoHunter.add(layers.Dense(units = hp_dense_units, activation = 'relu', name = 'dense_'+str(i)))\n",
        "    hp_add_dropout = hp.Boolean('add_dropout_'+str(i), default = True)\n",
        "    print('hp_add_dropout_'+str(i)+':',hp_add_dropout)\n",
        "    if hp_add_dropout == True:\n",
        "      exoHunter.add(layers.Dropout(rate = hp_dropout))\n",
        "\n",
        "\n",
        "  exoHunter.add(layers.Dense(1,'sigmoid', name = 'output_layer'))\n",
        "\n",
        "  #print(exoHunter.summary())\n",
        "\n",
        "  exoHunter.compile(loss = 'binary_crossentropy', optimizer = tensorflow.keras.optimizers.Adam(learning_rate = hp_lr), metrics = ['accuracy'])\n",
        "\n",
        "  return exoHunter"
      ]
    },
    {
      "cell_type": "markdown",
      "source": [
        "# Istanziazione di un oggetto di tipo `HyperParameters`"
      ],
      "metadata": {
        "id": "pcBgJwhmMb9F"
      }
    },
    {
      "cell_type": "code",
      "source": [
        "hp = HyperParameters()"
      ],
      "metadata": {
        "id": "wwrJhnbHdBgk"
      },
      "execution_count": null,
      "outputs": []
    },
    {
      "cell_type": "markdown",
      "source": [
        "# Esecuzione della funzione"
      ],
      "metadata": {
        "id": "dGHiy1ZgMpQk"
      }
    },
    {
      "cell_type": "code",
      "source": [
        "build_exoHunter(hp)"
      ],
      "metadata": {
        "id": "SrtnxztKwmRa"
      },
      "execution_count": null,
      "outputs": []
    },
    {
      "cell_type": "markdown",
      "source": [
        "# Istanziazione del tuner di tipo `BayesianOptimization`"
      ],
      "metadata": {
        "id": "tTNtJWgRMtp7"
      }
    },
    {
      "cell_type": "code",
      "source": [
        "tuner = BayesianOptimization(build_exoHunter, objective='val_loss', max_trials=50, directory='.',project_name='exoHunter_HP')"
      ],
      "metadata": {
        "id": "x5KeblcTxwJh"
      },
      "execution_count": null,
      "outputs": []
    },
    {
      "cell_type": "markdown",
      "source": [
        "# Riassunto dello spazio di ricerca"
      ],
      "metadata": {
        "id": "O02crzYeM3wg"
      }
    },
    {
      "cell_type": "code",
      "source": [
        "tuner.search_space_summary(extended = True)"
      ],
      "metadata": {
        "id": "rJ_jd7baygmW"
      },
      "execution_count": null,
      "outputs": []
    },
    {
      "cell_type": "markdown",
      "source": [
        "# Esecuzione della ricerca"
      ],
      "metadata": {
        "id": "GP7UCRk4M8I3"
      }
    },
    {
      "cell_type": "code",
      "execution_count": null,
      "metadata": {
        "id": "33gI5Z5V3tfN"
      },
      "outputs": [],
      "source": [
        "tuner.search(X_train, Y_train, \n",
        "             batch_size = 64, \n",
        "             epochs = 100,\n",
        "             verbose = 1, \n",
        "             validation_data = (X_val,Y_val), \n",
        "             callbacks = [tensorflow.keras.callbacks.EarlyStopping(monitor = 'val_loss', mode = 'min', patience = 10, verbose = 1)])"
      ]
    },
    {
      "cell_type": "markdown",
      "source": [
        "# **ExoHunter**"
      ],
      "metadata": {
        "id": "SW8LLBCONAUS"
      }
    },
    {
      "cell_type": "markdown",
      "source": [
        "# Creazione e addestramento del modello\n",
        "Per effettuare il *model averaging* la cella è stata eseguita per 10 volte. AL termine di ogni esecuzione, si esegue la cella successiva salvando il modello e la *history*"
      ],
      "metadata": {
        "id": "xQAI8Ky9O6Yl"
      }
    },
    {
      "cell_type": "code",
      "source": [
        "model = Sequential(name = 'ExoHunter')\n",
        "\n",
        "model.add(layers.Conv1D(8,5,1,input_shape = (2001,1), name = 'input_layer'))\n",
        "\n",
        "model.add(layers.Conv1D(64,5,1,name = '1_conv1D_0'))\n",
        "model.add(layers.Conv1D(64,5,1, name = '1_conv1D_1'))\n",
        "model.add(layers.Conv1D(64,5,1, name = '1_conv1D_2'))\n",
        "model.add(layers.MaxPooling1D(5,3,name = 'max_pool_1'))\n",
        "\n",
        "model.add(layers.Conv1D(128,5,1,name = '2_conv1D_0'))\n",
        "model.add(layers.Conv1D(128,5,1, name = '2_conv1D_1'))\n",
        "model.add(layers.Conv1D(128,5,1, name = '2_conv1D_2'))\n",
        "model.add(layers.MaxPooling1D(5,3,name = 'max_pool_2'))\n",
        "\n",
        "model.add(layers.Conv1D(128,5,1, name = '3_conv1D_1'))\n",
        "model.add(layers.MaxPooling1D(5,3,name = 'max_pool_3'))\n",
        "\n",
        "model.add(layers.Conv1D(128,5,1,name = '4_conv1D_0'))\n",
        "model.add(layers.Conv1D(128,5,1,name = '4_conv1D_1'))\n",
        "model.add(layers.Conv1D(128,5,1,name = '4_conv1D_2'))\n",
        "model.add(layers.MaxPooling1D(5,3,name = 'max_pool_4'))\n",
        "\n",
        "model.add(layers.Flatten(name = 'flatten'))\n",
        "\n",
        "model.add(layers.Dense(1028, activation = 'relu', name = 'dense_0'))\n",
        "model.add(layers.Dropout(0.85))\n",
        "model.add(layers.Dense(1,activation = 'sigmoid', name = 'output_layer'))\n",
        "\n",
        "model.summary()\n",
        "\n",
        "model.compile(loss = 'binary_crossentropy', optimizer = tensorflow.keras.optimizers.Adam(learning_rate = 0.00001), metrics = ['accuracy'])\n",
        "\n",
        "history = model.fit(X_train, Y_train,\n",
        "              batch_size = 64,\n",
        "              epochs = 100,\n",
        "              validation_data = (X_val,Y_val))"
      ],
      "metadata": {
        "colab": {
          "base_uri": "https://localhost:8080/"
        },
        "id": "9GzpNUx39X-B",
        "outputId": "e1ec5d2a-4bc3-449c-9f9b-4c0abf81763f"
      },
      "execution_count": null,
      "outputs": [
        {
          "output_type": "stream",
          "name": "stdout",
          "text": [
            "Model: \"ExoHunter\"\n",
            "_________________________________________________________________\n",
            " Layer (type)                Output Shape              Param #   \n",
            "=================================================================\n",
            " input_layer (Conv1D)        (None, 1997, 8)           48        \n",
            "                                                                 \n",
            " 1_conv1D_0 (Conv1D)         (None, 1993, 64)          2624      \n",
            "                                                                 \n",
            " 1_conv1D_1 (Conv1D)         (None, 1989, 64)          20544     \n",
            "                                                                 \n",
            " 1_conv1D_2 (Conv1D)         (None, 1985, 64)          20544     \n",
            "                                                                 \n",
            " max_pool_1 (MaxPooling1D)   (None, 661, 64)           0         \n",
            "                                                                 \n",
            " 2_conv1D_0 (Conv1D)         (None, 657, 128)          41088     \n",
            "                                                                 \n",
            " 2_conv1D_1 (Conv1D)         (None, 653, 128)          82048     \n",
            "                                                                 \n",
            " 2_conv1D_2 (Conv1D)         (None, 649, 128)          82048     \n",
            "                                                                 \n",
            " max_pool_2 (MaxPooling1D)   (None, 215, 128)          0         \n",
            "                                                                 \n",
            " 3_conv1D_1 (Conv1D)         (None, 211, 128)          82048     \n",
            "                                                                 \n",
            " max_pool_3 (MaxPooling1D)   (None, 69, 128)           0         \n",
            "                                                                 \n",
            " 4_conv1D_0 (Conv1D)         (None, 65, 128)           82048     \n",
            "                                                                 \n",
            " 4_conv1D_1 (Conv1D)         (None, 61, 128)           82048     \n",
            "                                                                 \n",
            " 4_conv1D_2 (Conv1D)         (None, 57, 128)           82048     \n",
            "                                                                 \n",
            " max_pool_4 (MaxPooling1D)   (None, 18, 128)           0         \n",
            "                                                                 \n",
            " flatten (Flatten)           (None, 2304)              0         \n",
            "                                                                 \n",
            " dense_0 (Dense)             (None, 1028)              2369540   \n",
            "                                                                 \n",
            " dropout (Dropout)           (None, 1028)              0         \n",
            "                                                                 \n",
            " output_layer (Dense)        (None, 1)                 1029      \n",
            "                                                                 \n",
            "=================================================================\n",
            "Total params: 2,947,705\n",
            "Trainable params: 2,947,705\n",
            "Non-trainable params: 0\n",
            "_________________________________________________________________\n"
          ]
        }
      ]
    },
    {
      "cell_type": "code",
      "source": [
        "np.save('/content/drive/MyDrive/model_history/model_10.npy',history.history)\n",
        "model.save('/content/drive/MyDrive/model_10.hdf5')"
      ],
      "metadata": {
        "id": "dt3lJkz8_gyT"
      },
      "execution_count": null,
      "outputs": []
    },
    {
      "cell_type": "markdown",
      "source": [
        "# Caricamento dei modelli e della *history*"
      ],
      "metadata": {
        "id": "Wm1yOGBgPUWA"
      }
    },
    {
      "cell_type": "code",
      "source": [
        "history_1 = np.load('/content/drive/MyDrive/model_history/model_1.npy',allow_pickle='TRUE').item()\n",
        "history_2 = np.load('/content/drive/MyDrive/model_history/model_2.npy',allow_pickle='TRUE').item()\n",
        "history_3 = np.load('/content/drive/MyDrive/model_history/model_3.npy',allow_pickle='TRUE').item()\n",
        "history_4 = np.load('/content/drive/MyDrive/model_history/model_4.npy',allow_pickle='TRUE').item()\n",
        "history_5 = np.load('/content/drive/MyDrive/model_history/model_5.npy',allow_pickle='TRUE').item()\n",
        "history_6 = np.load('/content/drive/MyDrive/model_history/model_6.npy',allow_pickle='TRUE').item()\n",
        "history_7 = np.load('/content/drive/MyDrive/model_history/model_7.npy',allow_pickle='TRUE').item()\n",
        "history_8 = np.load('/content/drive/MyDrive/model_history/model_8.npy',allow_pickle='TRUE').item()\n",
        "history_9 = np.load('/content/drive/MyDrive/model_history/model_9.npy',allow_pickle='TRUE').item()\n",
        "history_10 = np.load('/content/drive/MyDrive/model_history/model_10.npy',allow_pickle='TRUE').item()"
      ],
      "metadata": {
        "id": "m7uZmNSb5rJP"
      },
      "execution_count": null,
      "outputs": []
    },
    {
      "cell_type": "code",
      "source": [
        "model_1 = keras.models.load_model('/content/drive/MyDrive/model_1.hdf5')\n",
        "model_2 = keras.models.load_model('/content/drive/MyDrive/model_2.hdf5')\n",
        "model_3 = keras.models.load_model('/content/drive/MyDrive/model_3.hdf5')\n",
        "model_4 = keras.models.load_model('/content/drive/MyDrive/model_4.hdf5')\n",
        "model_5 = keras.models.load_model('/content/drive/MyDrive/model_5.hdf5')\n",
        "model_6 = keras.models.load_model('/content/drive/MyDrive/model_6.hdf5')\n",
        "model_7 = keras.models.load_model('/content/drive/MyDrive/model_7.hdf5')\n",
        "model_8 = keras.models.load_model('/content/drive/MyDrive/model_8.hdf5')\n",
        "model_9 = keras.models.load_model('/content/drive/MyDrive/model_9.hdf5')\n",
        "model_10 = keras.models.load_model('/content/drive/MyDrive/model_10.hdf5')"
      ],
      "metadata": {
        "id": "yOtIbvRx-EhL"
      },
      "execution_count": null,
      "outputs": []
    },
    {
      "cell_type": "markdown",
      "source": [
        "# Codice per produrre i risultati"
      ],
      "metadata": {
        "id": "diIk9cmIPaIe"
      }
    },
    {
      "cell_type": "markdown",
      "source": [
        "Valutazione dei modelli sul *test set* con produzione dei grafici dell'andamento della funzione di perdita e *accuracy* per il modello `ExoHunter_10`"
      ],
      "metadata": {
        "id": "dL-kfH_CPel5"
      }
    },
    {
      "cell_type": "code",
      "execution_count": null,
      "metadata": {
        "colab": {
          "base_uri": "https://localhost:8080/",
          "height": 1000
        },
        "id": "ONnePAgGVy6D",
        "outputId": "e8a6f27c-9704-4fe7-8d71-12a5c9e4f807"
      },
      "outputs": [
        {
          "output_type": "stream",
          "name": "stdout",
          "text": [
            "(ExoHunter_1) Test accuracy: 0.8877922296524048\n",
            "(ExoHunter_2) Test accuracy: 0.8888311982154846\n",
            "(ExoHunter_3) Test accuracy: 0.8841558694839478\n",
            "(ExoHunter_4) Test accuracy: 0.8831169009208679\n",
            "(ExoHunter_5) Test accuracy: 0.8836363554000854\n",
            "(ExoHunter_6) Test accuracy: 0.8872727155685425\n",
            "(ExoHunter_7) Test accuracy: 0.8862337470054626\n",
            "(ExoHunter_8) Test accuracy: 0.8862337470054626\n",
            "(ExoHunter_9) Test accuracy: 0.8857142925262451\n",
            "(ExoHunter_10) Test accuracy: 0.8909090757369995\n"
          ]
        },
        {
          "output_type": "display_data",
          "data": {
            "text/plain": [
              "<Figure size 432x288 with 0 Axes>"
            ]
          },
          "metadata": {}
        },
        {
          "output_type": "display_data",
          "data": {
            "text/plain": [
              "<Figure size 864x576 with 1 Axes>"
            ],
            "image/png": "[encoded data removed]"
          },
          "metadata": {
            "needs_background": "light"
          }
        },
        {
          "output_type": "display_data",
          "data": {
            "text/plain": [
              "<Figure size 864x576 with 1 Axes>"
            ],
            "image/png": "[encoded data removed]"
          },
          "metadata": {
            "needs_background": "light"
          }
        }
      ],
      "source": [
        "import matplotlib.pyplot as plt\n",
        "\n",
        "score_1 = model_1.evaluate(X_test, Y_test, verbose=0)\n",
        "score_2 = model_2.evaluate(X_test, Y_test, verbose=0)\n",
        "score_3 = model_3.evaluate(X_test, Y_test, verbose=0)\n",
        "score_4 = model_4.evaluate(X_test, Y_test, verbose=0)\n",
        "score_5 = model_5.evaluate(X_test, Y_test, verbose=0)\n",
        "score_6 = model_6.evaluate(X_test, Y_test, verbose=0)\n",
        "score_7 = model_7.evaluate(X_test, Y_test, verbose=0)\n",
        "score_8 = model_8.evaluate(X_test, Y_test, verbose=0)\n",
        "score_9 = model_9.evaluate(X_test, Y_test, verbose=0)\n",
        "score_10 = model_10.evaluate(X_test, Y_test, verbose=0)\n",
        "print('(ExoHunter_1) Test accuracy: {}'.format(score_1[1]))\n",
        "print('(ExoHunter_2) Test accuracy: {}'.format(score_2[1]))\n",
        "print('(ExoHunter_3) Test accuracy: {}'.format(score_3[1]))\n",
        "print('(ExoHunter_4) Test accuracy: {}'.format(score_4[1]))\n",
        "print('(ExoHunter_5) Test accuracy: {}'.format(score_5[1]))\n",
        "print('(ExoHunter_6) Test accuracy: {}'.format(score_6[1]))\n",
        "print('(ExoHunter_7) Test accuracy: {}'.format(score_7[1]))\n",
        "print('(ExoHunter_8) Test accuracy: {}'.format(score_8[1]))\n",
        "print('(ExoHunter_9) Test accuracy: {}'.format(score_9[1]))\n",
        "print('(ExoHunter_10) Test accuracy: {}'.format(score_10[1]))\n",
        "\n",
        "plt.figure(0)\n",
        "plt.figure(figsize=(12,8))\n",
        "plt.plot(history_10['loss'], label = 'Training Loss')\n",
        "plt.plot(history_10['val_loss'], label = 'Validation Loss')\n",
        "plt.legend()\n",
        "plt.grid()\n",
        "plt.title('Training loss vs. Validation loss (ExoHunter_10)',fontsize = 18)\n",
        "plt.xlabel('Epoche', fontsize = 14)\n",
        "plt.ylabel('Binary Cross Entropy',fontsize = 14)\n",
        "plt.savefig('model_training_history_10',dpi = 300)\n",
        "\n",
        "plt.figure(1)\n",
        "plt.figure(figsize=(12,8))\n",
        "plt.plot(history_10['accuracy'], label = 'Training Accuracy')\n",
        "plt.plot(history_10['val_accuracy'], label = 'Validation Accuracy')\n",
        "plt.legend()\n",
        "plt.grid()\n",
        "plt.title('Training accuracy vs. Validation accuracy (ExoHunter_10)',fontsize = 18)\n",
        "plt.xlabel('Epoche',fontsize = 14)\n",
        "plt.ylabel('Accuracy',fontsize = 14)\n",
        "plt.savefig('model_training_accuracy_10',dpi = 300)\n",
        "\n",
        "plt.show()"
      ]
    },
    {
      "cell_type": "markdown",
      "source": [
        "Calcolo della *accuracy* media"
      ],
      "metadata": {
        "id": "N8JWpYdSP_OX"
      }
    },
    {
      "cell_type": "code",
      "source": [
        "total_accuracy = score_1[1] + score_2[1] + score_3[1] + score_4[1] + score_5[1] + score_6[1] + score_7[1] + score_8[1] + score_9[1] + score_10[1]\n",
        "print('Mean accuracy:',np.round(total_accuracy/10,2))"
      ],
      "metadata": {
        "colab": {
          "base_uri": "https://localhost:8080/"
        },
        "id": "adHiEUaI_8ER",
        "outputId": "46c8745b-5f57-4d2d-a280-323103b44ef1"
      },
      "execution_count": null,
      "outputs": [
        {
          "output_type": "stream",
          "name": "stdout",
          "text": [
            "Mean accuracy: 0.89\n"
          ]
        }
      ]
    },
    {
      "cell_type": "markdown",
      "source": [
        "Calcolo del AUC *score* medio e grafico della curva ROC per il modello `ExoHunter_10`"
      ],
      "metadata": {
        "id": "Tv4le6mgQCk9"
      }
    },
    {
      "cell_type": "code",
      "source": [
        "from sklearn.metrics import roc_auc_score, roc_curve, confusion_matrix\n",
        "import seaborn as sns\n",
        "\n",
        "prediction_1 = model_1.predict(X_test)\n",
        "prediction_2 = model_2.predict(X_test)\n",
        "prediction_3 = model_3.predict(X_test)\n",
        "prediction_4 = model_4.predict(X_test)\n",
        "prediction_5 = model_5.predict(X_test)\n",
        "prediction_6 = model_6.predict(X_test)\n",
        "prediction_7 = model_7.predict(X_test)\n",
        "prediction_8 = model_8.predict(X_test)\n",
        "prediction_9 = model_9.predict(X_test)\n",
        "prediction_10 = model_10.predict(X_test)\n",
        "\n",
        "score_1 = roc_auc_score(Y_test,prediction_1)\n",
        "score_2 = roc_auc_score(Y_test,prediction_2)\n",
        "score_3 = roc_auc_score(Y_test,prediction_3)\n",
        "score_4 = roc_auc_score(Y_test,prediction_4)\n",
        "score_5 = roc_auc_score(Y_test,prediction_5)\n",
        "score_6 = roc_auc_score(Y_test,prediction_6)\n",
        "score_7 = roc_auc_score(Y_test,prediction_7)\n",
        "score_8 = roc_auc_score(Y_test,prediction_8)\n",
        "score_9 = roc_auc_score(Y_test,prediction_9)\n",
        "score_10 = roc_auc_score(Y_test,prediction_10)\n",
        "\n",
        "total_score = score_1 + score_2 + score_3 + score_4 + score_5 + score_6 + score_7 + score_8 + score_9 + score_10\n",
        "print('Mean AUC:',np.round(total_score/10,2))\n",
        "\n",
        "fpr, tpr, thresh = roc_curve(Y_test, prediction_10)\n",
        "\n",
        "\n",
        "plt.figure(0,figsize=(12,9))\n",
        "\n",
        "plt.plot(fpr, tpr, marker='.')\n",
        "plt.title('Curva ROC-AUC (ExoHunter_10)',fontsize = 18)\n",
        "plt.xlabel('False positive rate', fontsize = 14)\n",
        "plt.ylabel('True positive rate', fontsize = 14)\n",
        "plt.grid(visible = True, axis = 'both')\n",
        "plt.savefig('roc_auc_curve',dpi = 300)\n",
        "plt.show()"
      ],
      "metadata": {
        "id": "_lzEEcPAWgJV"
      },
      "execution_count": null,
      "outputs": []
    },
    {
      "cell_type": "markdown",
      "source": [
        "Calcolo e grafico della matrice di confusione media"
      ],
      "metadata": {
        "id": "sP5DXByxQJtl"
      }
    },
    {
      "cell_type": "code",
      "source": [
        "binary_prediction_1 = []\n",
        "binary_prediction_2 = []\n",
        "binary_prediction_3 = []\n",
        "binary_prediction_4 = []\n",
        "binary_prediction_5 = []\n",
        "binary_prediction_6 = []\n",
        "binary_prediction_7 = []\n",
        "binary_prediction_8 = []\n",
        "binary_prediction_9 = []\n",
        "binary_prediction_10 = []\n",
        "\n",
        "for item in prediction_1:\n",
        "  if item >= 0.5: binary_prediction_1.append(1)\n",
        "  else: binary_prediction_1.append(0)\n",
        "\n",
        "for item in prediction_2:\n",
        "  if item >= 0.5: binary_prediction_2.append(1)\n",
        "  else: binary_prediction_2.append(0)\n",
        "\n",
        "for item in prediction_3:\n",
        "  if item >= 0.5: binary_prediction_3.append(1)\n",
        "  else: binary_prediction_3.append(0)\n",
        "\n",
        "for item in prediction_4:\n",
        "  if item >= 0.5: binary_prediction_4.append(1)\n",
        "  else: binary_prediction_4.append(0)\n",
        "\n",
        "for item in prediction_5:\n",
        "  if item >= 0.5: binary_prediction_5.append(1)\n",
        "  else: binary_prediction_5.append(0)\n",
        "\n",
        "for item in prediction_6:\n",
        "  if item >= 0.5: binary_prediction_6.append(1)\n",
        "  else: binary_prediction_6.append(0)\n",
        "\n",
        "for item in prediction_7:\n",
        "  if item >= 0.5: binary_prediction_7.append(1)\n",
        "  else: binary_prediction_7.append(0)\n",
        "\n",
        "for item in prediction_8:\n",
        "  if item >= 0.5: binary_prediction_8.append(1)\n",
        "  else: binary_prediction_8.append(0)\n",
        "\n",
        "for item in prediction_9:\n",
        "  if item >= 0.5: binary_prediction_9.append(1)\n",
        "  else: binary_prediction_9.append(0)\n",
        "\n",
        "for item in prediction_10:\n",
        "  if item >= 0.5: binary_prediction_10.append(1)\n",
        "  else: binary_prediction_10.append(0)\n",
        "\n",
        "binary_prediction_1 = np.array(binary_prediction_1)\n",
        "binary_prediction_2 = np.array(binary_prediction_2)\n",
        "binary_prediction_3 = np.array(binary_prediction_3)\n",
        "binary_prediction_4 = np.array(binary_prediction_4)\n",
        "binary_prediction_5 = np.array(binary_prediction_5)\n",
        "binary_prediction_6 = np.array(binary_prediction_6)\n",
        "binary_prediction_7 = np.array(binary_prediction_7)\n",
        "binary_prediction_8 = np.array(binary_prediction_8)\n",
        "binary_prediction_9 = np.array(binary_prediction_9)\n",
        "binary_prediction_10 = np.array(binary_prediction_10)\n",
        "\n",
        "matrix_1 = confusion_matrix(Y_test,binary_prediction_1)\n",
        "matrix_2 = confusion_matrix(Y_test,binary_prediction_2)\n",
        "matrix_3 = confusion_matrix(Y_test,binary_prediction_3)\n",
        "matrix_4 = confusion_matrix(Y_test,binary_prediction_4)\n",
        "matrix_5 = confusion_matrix(Y_test,binary_prediction_5)\n",
        "matrix_6 = confusion_matrix(Y_test,binary_prediction_6)\n",
        "matrix_7 = confusion_matrix(Y_test,binary_prediction_7)\n",
        "matrix_8 = confusion_matrix(Y_test,binary_prediction_8)\n",
        "matrix_9 = confusion_matrix(Y_test,binary_prediction_9)\n",
        "matrix_10 = confusion_matrix(Y_test,binary_prediction_10)\n",
        "\n",
        "m00 = (matrix_1[0,0] + matrix_2[0,0] + matrix_3[0,0] + matrix_4[0,0] + matrix_5[0,0] + matrix_6[0,0] + matrix_7[0,0] + matrix_8[0,0] + matrix_9[0,0] + matrix_10[0,0])/10\n",
        "m01 = (matrix_1[0,1] + matrix_2[0,1] + matrix_3[0,1] + matrix_4[0,1] + matrix_5[0,1] + matrix_6[0,1] + matrix_7[0,1] + matrix_8[0,1] + matrix_9[0,1] + matrix_10[0,1])/10\n",
        "m10 = (matrix_1[1,0] + matrix_2[1,0] + matrix_3[1,0] + matrix_4[1,0] + matrix_5[1,0] + matrix_6[1,0] + matrix_7[1,0] + matrix_8[1,0] + matrix_9[1,0] + matrix_10[1,0])/10\n",
        "m11 = (matrix_1[1,1] + matrix_2[1,1] + matrix_3[1,1] + matrix_4[1,1] + matrix_5[1,1] + matrix_6[1,1] + matrix_7[1,1] + matrix_8[1,1] + matrix_9[1,1] + matrix_10[1,1])/10\n",
        "\n",
        "m00 = np.around(m00)\n",
        "m01 = np.around(m01)\n",
        "m10 = np.around(m10)\n",
        "m11 = np.around(m11)\n",
        "\n",
        "array = np.array([[m00,m01],\n",
        "                  [m10,m11]],dtype = int)\n",
        "plt.figure(0,figsize=(8,8))\n",
        "sns.set(font_scale=1.4)\n",
        "sns.heatmap(array, annot = True, fmt = 'g',xticklabels=['False','True'],yticklabels=['False','True'],annot_kws={'size': 16},cmap=\"OrRd\")\n",
        "plt.title('Matrice di confusione - Media dei dieci modelli',fontsize = 16)\n",
        "plt.savefig('confusion_matrix',dpi = 300)"
      ],
      "metadata": {
        "colab": {
          "base_uri": "https://localhost:8080/",
          "height": 508
        },
        "id": "8zX5xGHa6WgX",
        "outputId": "d1be7f9e-463c-468b-84da-8fc6e7a3729a"
      },
      "execution_count": null,
      "outputs": [
        {
          "output_type": "display_data",
          "data": {
            "text/plain": [
              "<Figure size 576x576 with 2 Axes>"
            ],
            "image/png": "[encoded data removed]"
          },
          "metadata": {}
        }
      ]
    }
  ],
  "metadata": {
    "colab": {
      "collapsed_sections": [],
      "provenance": []
    },
    "kernelspec": {
      "display_name": "Python 3",
      "name": "python3"
    },
    "language_info": {
      "name": "python"
    },
    "accelerator": "GPU",
    "gpuClass": "standard"
  },
  "nbformat": 4,
  "nbformat_minor": 0
}